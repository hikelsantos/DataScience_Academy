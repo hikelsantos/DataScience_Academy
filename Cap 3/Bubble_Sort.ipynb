{
 "cells": [
  {
   "cell_type": "markdown",
   "id": "4e6b11df",
   "metadata": {},
   "source": [
    "Bubble Sort - ordenando valores de forma crescente"
   ]
  },
  {
   "cell_type": "code",
   "execution_count": 62,
   "id": "43c64e54",
   "metadata": {},
   "outputs": [],
   "source": [
    "def bubble_sort(lista):\n",
    "    for posicao_final in range(0, len(lista)):\n",
    "        for posicao, indice in enumerate(lista[posicao_final:]):\n",
    "            try:\n",
    "                if indice < valor_menor:\n",
    "                    valor_menor = indice\n",
    "                    posicao_menor = posicao + posicao_final\n",
    "            except:\n",
    "                #Ainda não existe valor menor (está na posicção 0)\n",
    "                valor_menor = indice\n",
    "                posicao_menor = posicao + posicao_final\n",
    "\n",
    "        valor_provisorio = lista[posicao_menor]\n",
    "        lista[posicao_menor] = lista[posicao_final]\n",
    "        lista[posicao_final] = valor_provisorio\n",
    "        \n",
    "        del(valor_menor)\n",
    "        del(posicao_menor)\n",
    "        del(valor_provisorio)\n",
    "\n",
    "    return lista\n",
    "        "
   ]
  },
  {
   "cell_type": "code",
   "execution_count": 63,
   "id": "4df1baf0",
   "metadata": {},
   "outputs": [
    {
     "name": "stdout",
     "output_type": "stream",
     "text": [
      "Lista antes:  [2, 9, 5, 3, 6, 1, 2]\n",
      "Lista depois: [1, 2, 2, 3, 5, 6, 9]\n"
     ]
    }
   ],
   "source": [
    "lista = [2, 9, 5, 3, 6, 1, 2]\n",
    "print('Lista antes: ', lista)\n",
    "print('Lista depois:', bubble_sort(lista))"
   ]
  },
  {
   "cell_type": "code",
   "execution_count": null,
   "id": "9ce3d0f5",
   "metadata": {},
   "outputs": [],
   "source": []
  }
 ],
 "metadata": {
  "kernelspec": {
   "display_name": "Python 3 (ipykernel)",
   "language": "python",
   "name": "python3"
  },
  "language_info": {
   "codemirror_mode": {
    "name": "ipython",
    "version": 3
   },
   "file_extension": ".py",
   "mimetype": "text/x-python",
   "name": "python",
   "nbconvert_exporter": "python",
   "pygments_lexer": "ipython3",
   "version": "3.11.3"
  }
 },
 "nbformat": 4,
 "nbformat_minor": 5
}
