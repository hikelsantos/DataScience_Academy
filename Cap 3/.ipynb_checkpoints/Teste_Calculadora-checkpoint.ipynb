{
 "cells": [
  {
   "cell_type": "markdown",
   "id": "cfbca583",
   "metadata": {},
   "source": [
    "Teste 1 - Criando uma calculadora"
   ]
  },
  {
   "cell_type": "code",
   "execution_count": 1,
   "id": "d4c17b06",
   "metadata": {},
   "outputs": [
    {
     "name": "stdout",
     "output_type": "stream",
     "text": [
      "Digite um valor: 2\n"
     ]
    }
   ],
   "source": [
    "valor_1 = float(input('Digite um valor: '))"
   ]
  },
  {
   "cell_type": "code",
   "execution_count": 2,
   "id": "7d0144b7",
   "metadata": {},
   "outputs": [
    {
     "name": "stdout",
     "output_type": "stream",
     "text": [
      "Digite outro valor: 44\n"
     ]
    }
   ],
   "source": [
    "valor_2 = float(input('Digite outro valor: '))"
   ]
  },
  {
   "cell_type": "code",
   "execution_count": 6,
   "id": "3ff2e1b4",
   "metadata": {},
   "outputs": [
    {
     "name": "stdout",
     "output_type": "stream",
     "text": [
      "Selecione a operação (+ , - , * , /): +\n"
     ]
    }
   ],
   "source": [
    "operacao = str(input('Selecione a operação (+ , - , * , /): '))"
   ]
  },
  {
   "cell_type": "code",
   "execution_count": 10,
   "id": "66cfe477",
   "metadata": {},
   "outputs": [
    {
     "name": "stdout",
     "output_type": "stream",
     "text": [
      "2.0 + 44.0 = 46.0\n"
     ]
    }
   ],
   "source": [
    "if operacao == '+':\n",
    "    resultado = (valor_1 + valor_2)\n",
    "elif operacao == '-':\n",
    "    resultado = (valor_1 - valor_2)\n",
    "elif operacao == '*':\n",
    "    resultado = (valor_1 * valor_2)\n",
    "else:\n",
    "    resultado = (valor_1 / valor_2)\n",
    "\n",
    "print(f'{valor_1} {operacao} {valor_2} = {resultado}')"
   ]
  },
  {
   "cell_type": "code",
   "execution_count": null,
   "id": "0c0921e9",
   "metadata": {},
   "outputs": [],
   "source": []
  }
 ],
 "metadata": {
  "kernelspec": {
   "display_name": "Python 3 (ipykernel)",
   "language": "python",
   "name": "python3"
  },
  "language_info": {
   "codemirror_mode": {
    "name": "ipython",
    "version": 3
   },
   "file_extension": ".py",
   "mimetype": "text/x-python",
   "name": "python",
   "nbconvert_exporter": "python",
   "pygments_lexer": "ipython3",
   "version": "3.11.3"
  }
 },
 "nbformat": 4,
 "nbformat_minor": 5
}
