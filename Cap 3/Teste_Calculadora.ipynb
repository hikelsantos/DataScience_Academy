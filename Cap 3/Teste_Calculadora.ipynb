{
 "cells": [
  {
   "cell_type": "markdown",
   "id": "67ca5a0f",
   "metadata": {},
   "source": [
    "Teste 1 - Criando uma calculadora"
   ]
  },
  {
   "cell_type": "code",
   "execution_count": 2,
   "id": "b3bf22c7",
   "metadata": {},
   "outputs": [
    {
     "name": "stdout",
     "output_type": "stream",
     "text": [
      "Digite um valor: 23\n"
     ]
    }
   ],
   "source": [
    "try:\n",
    "    valor_1 = float(input('Digite um valor: '))\n",
    "except:\n",
    "    print('Digite um valor válido!')"
   ]
  },
  {
   "cell_type": "code",
   "execution_count": 4,
   "id": "b95554a3",
   "metadata": {},
   "outputs": [
    {
     "name": "stdout",
     "output_type": "stream",
     "text": [
      "Digite outro valor: 32\n"
     ]
    }
   ],
   "source": [
    "try:\n",
    "    valor_2 = float(input('Digite outro valor: '))\n",
    "except:\n",
    "    print('Digite um valor válido!')"
   ]
  },
  {
   "cell_type": "code",
   "execution_count": 5,
   "id": "5f8b813f",
   "metadata": {},
   "outputs": [
    {
     "name": "stdout",
     "output_type": "stream",
     "text": [
      "Selecione a operação (+ , - , * , /): +\n",
      "23.0 + 32.0 = 55.0\n"
     ]
    }
   ],
   "source": [
    "operacao = str(input('Selecione a operação (+ , - , * , /): '))\n",
    "\n",
    "if operacao == '+':\n",
    "    resultado = (valor_1 + valor_2)\n",
    "elif operacao == '-':\n",
    "    resultado = (valor_1 - valor_2)\n",
    "elif operacao == '*':\n",
    "    resultado = (valor_1 * valor_2)\n",
    "elif operacao == '/':\n",
    "    resultado = (valor_1 / valor_2)\n",
    "else:\n",
    "    print('Digite um operador válido!')\n",
    "\n",
    "print(f'{valor_1} {operacao} {valor_2} = {resultado}')"
   ]
  },
  {
   "cell_type": "code",
   "execution_count": null,
   "id": "f5fd03d9",
   "metadata": {},
   "outputs": [],
   "source": []
  }
 ],
 "metadata": {
  "kernelspec": {
   "display_name": "Python 3 (ipykernel)",
   "language": "python",
   "name": "python3"
  },
  "language_info": {
   "codemirror_mode": {
    "name": "ipython",
    "version": 3
   },
   "file_extension": ".py",
   "mimetype": "text/x-python",
   "name": "python",
   "nbconvert_exporter": "python",
   "pygments_lexer": "ipython3",
   "version": "3.11.3"
  }
 },
 "nbformat": 4,
 "nbformat_minor": 5
}
