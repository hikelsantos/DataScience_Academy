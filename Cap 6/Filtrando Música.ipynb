{
 "cells": [
  {
   "cell_type": "code",
   "execution_count": 1,
   "id": "a453383b",
   "metadata": {},
   "outputs": [],
   "source": [
    "import re\n",
    "\n",
    "musica = '''\n",
    "Todos os dias quando acordo\n",
    "Não tenho mais\n",
    "O tempo que passou\n",
    "Mas tenho muito tempo\n",
    "Temos todo o tempo do mundo\n",
    "Todos os dias\n",
    "Antes de dormir\n",
    "Lembro e esqueço\n",
    "Como foi o dia\n",
    "Sempre em frente\n",
    "Não temos tempo a perder\n",
    "Nosso suor sagrado\n",
    "É bem mais belo\n",
    "Que esse sangue amargo\n",
    "E tão sério\n",
    "E selvagem! Selvagem!\n",
    "Selvagem!\n",
    "Veja o sol\n",
    "Dessa manhã tão cinza\n",
    "A tempestade que chega\n",
    "É da cor dos teus olhos\n",
    "Castanhos\n",
    "Então me abraça forte\n",
    "E diz mais uma vez\n",
    "Que já estamos\n",
    "Distantes de tudo\n",
    "Temos nosso próprio tempo\n",
    "Temos nosso próprio tempo\n",
    "Temos nosso próprio tempo\n",
    "Não tenho medo do escuro\n",
    "Mas deixe as luzes\n",
    "Acesas agora\n",
    "O que foi escondido\n",
    "É o que se escondeu\n",
    "E o que foi prometido\n",
    "Ninguém prometeu\n",
    "Nem foi tempo perdido\n",
    "Somos tão jovens\n",
    "Tão jovens! Tão jovens!\n",
    "'''"
   ]
  },
  {
   "cell_type": "code",
   "execution_count": 6,
   "id": "b70ddcdb",
   "metadata": {},
   "outputs": [
    {
     "name": "stdout",
     "output_type": "stream",
     "text": [
      "42\n"
     ]
    }
   ],
   "source": [
    "#Contando os caracteres 'a'\n",
    "\n",
    "print(len(re.findall('A', musica.upper())))"
   ]
  },
  {
   "cell_type": "code",
   "execution_count": 7,
   "id": "85f0614a",
   "metadata": {},
   "outputs": [
    {
     "name": "stdout",
     "output_type": "stream",
     "text": [
      "8\n"
     ]
    }
   ],
   "source": [
    "#Contando a palavra 'tempo'\n",
    "\n",
    "print(len(re.findall('TEMPO', musica.upper())))"
   ]
  },
  {
   "cell_type": "code",
   "execution_count": 9,
   "id": "f792165f",
   "metadata": {},
   "outputs": [
    {
     "name": "stdout",
     "output_type": "stream",
     "text": [
      "['SELVAGEM', 'SELVAGEM', 'SELVAGEM', 'JOVENS', 'JOVENS']\n"
     ]
    }
   ],
   "source": [
    "#Palavras que antecedem a exclamação\n",
    "\n",
    "print(re.findall((r'(\\w+)!'), musica.upper()))"
   ]
  },
  {
   "cell_type": "code",
   "execution_count": 12,
   "id": "6844297c",
   "metadata": {},
   "outputs": [
    {
     "name": "stdout",
     "output_type": "stream",
     "text": [
      "['SANGUE']\n"
     ]
    }
   ],
   "source": [
    "#Procura a palavra que seu antecessor é 'esse' e seu sucessor seja 'amargo'\n",
    "\n",
    "print(re.findall((r'ESSE (\\w+) AMARGO'), musica.upper()))"
   ]
  },
  {
   "cell_type": "code",
   "execution_count": 36,
   "id": "dbe9cc2e",
   "metadata": {},
   "outputs": [
    {
     "name": "stdout",
     "output_type": "stream",
     "text": [
      "['SÉ', 'JÁ', 'PRÓ', 'PRÓ', 'PRÓ', 'NINGUÉ']\n"
     ]
    }
   ],
   "source": [
    "#Procura palavras com acento (a palavra vai até o acento, desconsiderar o resto)\n",
    "\n",
    "print(re.findall((r'\\w+[ÁÉÍÓÚ]'), musica.upper()))"
   ]
  },
  {
   "cell_type": "code",
   "execution_count": null,
   "id": "662ac924",
   "metadata": {},
   "outputs": [],
   "source": []
  }
 ],
 "metadata": {
  "kernelspec": {
   "display_name": "Python 3 (ipykernel)",
   "language": "python",
   "name": "python3"
  },
  "language_info": {
   "codemirror_mode": {
    "name": "ipython",
    "version": 3
   },
   "file_extension": ".py",
   "mimetype": "text/x-python",
   "name": "python",
   "nbconvert_exporter": "python",
   "pygments_lexer": "ipython3",
   "version": "3.11.3"
  }
 },
 "nbformat": 4,
 "nbformat_minor": 5
}
